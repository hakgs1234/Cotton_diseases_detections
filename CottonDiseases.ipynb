{
 "cells": [
  {
   "cell_type": "code",
   "execution_count": 1,
   "id": "bc5cb8a6-0014-4283-838c-ea063b8152f4",
   "metadata": {},
   "outputs": [],
   "source": [
    "import os\n",
    "import glob\n",
    "import numpy as np\n",
    "import pandas as pd\n",
    "import tensorflow as tf\n",
    "\n",
    "from PIL import Image\n",
    "from zipfile import ZipFile\n",
    "from matplotlib import pyplot as plt\n",
    "\n",
    "%matplotlib inline\n",
    "plt.rcParams['figure.figsize'] = (12, 7)"
   ]
  },
  {
   "cell_type": "code",
   "execution_count": 2,
   "id": "0523c956-05e6-4d26-b9ec-c6eba7034cd1",
   "metadata": {},
   "outputs": [
    {
     "name": "stdout",
     "output_type": "stream",
     "text": [
      "Found 1562 images belonging to 4 classes.\n",
      "Found 64 images belonging to 4 classes.\n"
     ]
    }
   ],
   "source": [
    "# Dividing into train and validation split\n",
    "\n",
    "img_h = 300\n",
    "img_w = 300\n",
    "\n",
    "datagen = tf.keras.preprocessing.image.ImageDataGenerator(\n",
    "    rescale = 1/255.,\n",
    "    horizontal_flip = True,\n",
    "    vertical_flip = True,\n",
    "    validation_split = 0.2\n",
    ")\n",
    "\n",
    "train = datagen.flow_from_directory(\n",
    "    'dataset/train',\n",
    "    seed = 88,\n",
    "    subset = 'training',\n",
    "#     target_size = (img_h, img_w),\n",
    "    batch_size = 32\n",
    ")\n",
    "\n",
    "valid = datagen.flow_from_directory(\n",
    "    'dataset/val',\n",
    "    seed = 88,\n",
    "    subset = 'validation',\n",
    "#     target_size = (img_h, img_w),\n",
    "    batch_size = 32\n",
    ")"
   ]
  },
  {
   "cell_type": "code",
   "execution_count": 4,
   "id": "ed4cf345-9a09-4a3f-9d99-86d4b38b3706",
   "metadata": {},
   "outputs": [
    {
     "ename": "NameError",
     "evalue": "name 'inception' is not defined",
     "output_type": "error",
     "traceback": [
      "\u001b[1;31m---------------------------------------------------------------------------\u001b[0m",
      "\u001b[1;31mNameError\u001b[0m                                 Traceback (most recent call last)",
      "Cell \u001b[1;32mIn[4], line 13\u001b[0m\n\u001b[0;32m     10\u001b[0m \u001b[38;5;28;01mfor\u001b[39;00m layer \u001b[38;5;129;01min\u001b[39;00m resnet\u001b[38;5;241m.\u001b[39mlayers:\n\u001b[0;32m     11\u001b[0m     layer\u001b[38;5;241m.\u001b[39mtrainable \u001b[38;5;241m=\u001b[39m \u001b[38;5;28;01mFalse\u001b[39;00m\n\u001b[1;32m---> 13\u001b[0m inter \u001b[38;5;241m=\u001b[39m tf\u001b[38;5;241m.\u001b[39mkeras\u001b[38;5;241m.\u001b[39mlayers\u001b[38;5;241m.\u001b[39mGlobalMaxPooling2D()(\u001b[43minception\u001b[49m\u001b[38;5;241m.\u001b[39moutput)\n\u001b[0;32m     14\u001b[0m flatten \u001b[38;5;241m=\u001b[39m tf\u001b[38;5;241m.\u001b[39mkeras\u001b[38;5;241m.\u001b[39mlayers\u001b[38;5;241m.\u001b[39mFlatten()(inter)\n\u001b[0;32m     15\u001b[0m output \u001b[38;5;241m=\u001b[39m tf\u001b[38;5;241m.\u001b[39mkeras\u001b[38;5;241m.\u001b[39mlayers\u001b[38;5;241m.\u001b[39mDense(\u001b[38;5;241m4\u001b[39m, activation\u001b[38;5;241m=\u001b[39m\u001b[38;5;124m'\u001b[39m\u001b[38;5;124msoftmax\u001b[39m\u001b[38;5;124m'\u001b[39m)(flatten)\n",
      "\u001b[1;31mNameError\u001b[0m: name 'inception' is not defined"
     ]
    }
   ],
   "source": [
    "# Pre-trained model\n",
    "from tensorflow.keras.applications.inception_v3 import InceptionV3\n",
    "from tensorflow.keras.applications.resnet_v2 import ResNet152V2\n",
    "from tensorflow.keras.applications.efficientnet import EfficientNetB7\n",
    "from tensorflow.keras.applications.resnet50 import ResNet50\n",
    "from tensorflow.keras.applications.inception_resnet_v2 import InceptionResNetV2\n",
    "in_layer = tf.keras.layers.Input(shape=(None, None, 3))\n",
    "resnet = ResNet152V2(include_top=False, weights='imagenet', input_tensor=in_layer)\n",
    "\n",
    "for layer in resnet.layers:\n",
    "    layer.trainable = False\n",
    "\n",
    "inter = tf.keras.layers.GlobalMaxPooling2D()(xception.output)\n",
    "flatten = tf.keras.layers.Flatten()(inter)\n",
    "output = tf.keras.layers.Dense(4, activation='softmax')(flatten)\n",
    "\n",
    "resnet = tf.keras.models.Model(inputs=resnet.inputs, outputs=output)"
   ]
  },
  {
   "cell_type": "code",
   "execution_count": null,
   "id": "9e8893a8-8903-4fa4-81f3-446004abb968",
   "metadata": {},
   "outputs": [],
   "source": []
  }
 ],
 "metadata": {
  "kernelspec": {
   "display_name": "Python 3 (ipykernel)",
   "language": "python",
   "name": "python3"
  },
  "language_info": {
   "codemirror_mode": {
    "name": "ipython",
    "version": 3
   },
   "file_extension": ".py",
   "mimetype": "text/x-python",
   "name": "python",
   "nbconvert_exporter": "python",
   "pygments_lexer": "ipython3",
   "version": "3.11.0"
  }
 },
 "nbformat": 4,
 "nbformat_minor": 5
}
